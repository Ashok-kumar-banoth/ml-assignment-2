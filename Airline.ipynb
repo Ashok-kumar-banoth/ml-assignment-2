{
  "nbformat": 4,
  "nbformat_minor": 0,
  "metadata": {
    "colab": {
      "provenance": [],
      "gpuType": "T4"
    },
    "kernelspec": {
      "name": "python3",
      "display_name": "Python 3"
    },
    "language_info": {
      "name": "python"
    },
    "accelerator": "GPU"
  },
  "cells": [
    {
      "cell_type": "code",
      "source": [
        "# Install Gensim only (do not downgrade numpy or scipy)\n",
        "!pip install gensim --quiet\n",
        "\n",
        "# Imports\n",
        "import pandas as pd\n",
        "import numpy as np\n",
        "import re\n",
        "import gensim.downloader as api\n",
        "from sklearn.model_selection import train_test_split\n",
        "from sklearn.linear_model import LogisticRegression\n",
        "from sklearn.metrics import accuracy_score\n",
        "from sklearn.feature_extraction.text import ENGLISH_STOP_WORDS\n",
        "\n",
        "# Tweet preprocessing (simple, no nltk)\n",
        "def preprocess_tweet(text):\n",
        "    text = text.lower()\n",
        "    text = re.sub(r\"http\\S+|@\\w+|#\\w+\", \"\", text)   # Remove links, mentions, hashtags\n",
        "    text = re.sub(r\"[^a-z\\s]\", \"\", text)            # Remove punctuation/numbers\n",
        "    words = text.split()\n",
        "    words = [w for w in words if w not in ENGLISH_STOP_WORDS]\n",
        "    return words\n",
        "\n",
        "# Load Word2Vec (Google News, ~1.5GB, will download once)\n",
        "w2v_model = api.load(\"word2vec-google-news-300\")\n",
        "\n",
        "# Convert tweet to average vector\n",
        "def vectorize_tweet(tweet):\n",
        "    words = preprocess_tweet(tweet)\n",
        "    vectors = [w2v_model[w] for w in words if w in w2v_model]\n",
        "    return np.mean(vectors, axis=0) if vectors else np.zeros(300)\n",
        "\n",
        "# Load Tweets.csv (uploaded manually via Colab)\n",
        "df = pd.read_csv(\"Tweets.csv\")[['text', 'airline_sentiment']]\n",
        "\n",
        "# Convert all tweets to vectors\n",
        "df['vector'] = df['text'].apply(vectorize_tweet)\n",
        "\n",
        "# Prepare training data\n",
        "X = np.vstack(df['vector'].values)\n",
        "y = df['airline_sentiment'].map({'negative': 0, 'neutral': 1, 'positive': 2})\n",
        "X_train, X_test, y_train, y_test = train_test_split(X, y, test_size=0.2, random_state=42)\n",
        "\n",
        "# Train model\n",
        "clf = LogisticRegression(max_iter=1000, multi_class='multinomial')\n",
        "clf.fit(X_train, y_train)\n",
        "\n",
        "# Evaluate\n",
        "acc = accuracy_score(y_test, clf.predict(X_test))\n",
        "print(\"Tweet Sentiment Accuracy:\", round(acc * 100, 2), \"%\")\n",
        "\n",
        "# Prediction function\n",
        "def predict_sentiment(tweet):\n",
        "    vec = vectorize_tweet(tweet).reshape(1, -1)\n",
        "    label = clf.predict(vec)[0]\n",
        "    return {0: 'negative', 1: 'neutral', 2: 'positive'}[label]\n",
        "\n",
        "# Example predictions\n",
        "print(\"Example 1:\", predict_sentiment(\"Terrible flight, rude staff and delay.\"))\n",
        "print(\"Example 2:\", predict_sentiment(\"Very smooth check-in, friendly staff.\"))\n",
        "print(\"Example 3:\", predict_sentiment(\"It was fine, not too bad.\"))\n"
      ],
      "metadata": {
        "colab": {
          "base_uri": "https://localhost:8080/"
        },
        "id": "U0CiVuXV97aw",
        "outputId": "533cfa25-1763-4d3d-9484-01de128bcafa"
      },
      "execution_count": 3,
      "outputs": [
        {
          "output_type": "stream",
          "name": "stderr",
          "text": [
            "/usr/local/lib/python3.11/dist-packages/sklearn/linear_model/_logistic.py:1247: FutureWarning: 'multi_class' was deprecated in version 1.5 and will be removed in 1.7. From then on, it will always use 'multinomial'. Leave it to its default value to avoid this warning.\n",
            "  warnings.warn(\n"
          ]
        },
        {
          "output_type": "stream",
          "name": "stdout",
          "text": [
            "Tweet Sentiment Accuracy: 77.7 %\n",
            "Example 1: negative\n",
            "Example 2: positive\n",
            "Example 3: negative\n"
          ]
        }
      ]
    }
  ]
}